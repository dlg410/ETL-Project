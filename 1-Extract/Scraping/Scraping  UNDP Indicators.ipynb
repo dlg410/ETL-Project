{
 "cells": [
  {
   "cell_type": "code",
   "execution_count": 1,
   "metadata": {},
   "outputs": [],
   "source": [
    "from splinter import Browser\n",
    "from bs4 import BeautifulSoup\n",
    "import pandas as pd\n",
    "import numpy as np\n",
    "import os\n",
    "from selenium import webdriver\n",
    "from selenium.webdriver.common.by import By\n",
    "from selenium.webdriver.support.ui import WebDriverWait\n",
    "from selenium.webdriver.support import expected_conditions as ec"
   ]
  },
  {
   "cell_type": "code",
   "execution_count": 2,
   "metadata": {},
   "outputs": [],
   "source": [
    "output_path = \"../Raw data/Scraped Data\""
   ]
  },
  {
   "cell_type": "code",
   "execution_count": 3,
   "metadata": {},
   "outputs": [
    {
     "data": {
      "text/html": [
       "<div>\n",
       "<style scoped>\n",
       "    .dataframe tbody tr th:only-of-type {\n",
       "        vertical-align: middle;\n",
       "    }\n",
       "\n",
       "    .dataframe tbody tr th {\n",
       "        vertical-align: top;\n",
       "    }\n",
       "\n",
       "    .dataframe thead th {\n",
       "        text-align: right;\n",
       "    }\n",
       "</style>\n",
       "<table border=\"1\" class=\"dataframe\">\n",
       "  <thead>\n",
       "    <tr style=\"text-align: right;\">\n",
       "      <th></th>\n",
       "      <th>Indicator name</th>\n",
       "      <th>url</th>\n",
       "    </tr>\n",
       "  </thead>\n",
       "  <tbody>\n",
       "    <tr>\n",
       "      <th>0</th>\n",
       "      <td>Human Development Index</td>\n",
       "      <td>http://hdr.undp.org/en/indicators/137506</td>\n",
       "    </tr>\n",
       "    <tr>\n",
       "      <th>1</th>\n",
       "      <td>Education Index</td>\n",
       "      <td>http://hdr.undp.org/en/indicators/103706</td>\n",
       "    </tr>\n",
       "    <tr>\n",
       "      <th>2</th>\n",
       "      <td>Income Index (GNI)</td>\n",
       "      <td>http://hdr.undp.org/en/indicators/103606</td>\n",
       "    </tr>\n",
       "    <tr>\n",
       "      <th>3</th>\n",
       "      <td>Life Expectancy index</td>\n",
       "      <td>http://hdr.undp.org/en/indicators/103206</td>\n",
       "    </tr>\n",
       "    <tr>\n",
       "      <th>4</th>\n",
       "      <td>Expected Years of Schooling</td>\n",
       "      <td>http://hdr.undp.org/en/indicators/69706</td>\n",
       "    </tr>\n",
       "  </tbody>\n",
       "</table>\n",
       "</div>"
      ],
      "text/plain": [
       "                Indicator name                                       url\n",
       "0      Human Development Index  http://hdr.undp.org/en/indicators/137506\n",
       "1              Education Index  http://hdr.undp.org/en/indicators/103706\n",
       "2           Income Index (GNI)  http://hdr.undp.org/en/indicators/103606\n",
       "3        Life Expectancy index  http://hdr.undp.org/en/indicators/103206\n",
       "4  Expected Years of Schooling   http://hdr.undp.org/en/indicators/69706"
      ]
     },
     "execution_count": 3,
     "metadata": {},
     "output_type": "execute_result"
    }
   ],
   "source": [
    "Indicators = pd.read_csv(\"./UNDP-Lists/UNDP-Indicators.csv\")\n",
    "Indicators.head()"
   ]
  },
  {
   "cell_type": "code",
   "execution_count": 4,
   "metadata": {},
   "outputs": [
    {
     "name": "stdout",
     "output_type": "stream",
     "text": [
      "/usr/local/bin/chromedriver\r\n"
     ]
    }
   ],
   "source": [
    "!which chromedriver"
   ]
  },
  {
   "cell_type": "code",
   "execution_count": 5,
   "metadata": {},
   "outputs": [
    {
     "name": "stdout",
     "output_type": "stream",
     "text": [
      "Getting data for Human Development Index\n",
      "Saved Human Development Index\n",
      "Getting data for Education Index\n",
      "Saved Education Index\n",
      "Getting data for Income Index (GNI)\n",
      "Saved Income Index (GNI)\n",
      "Getting data for Life Expectancy index\n",
      "Saved Life Expectancy index\n",
      "Getting data for Expected Years of Schooling\n",
      "Saved Expected Years of Schooling\n",
      "Getting data for Mean Years of Schooling - UN\n",
      "Saved Mean Years of Schooling - UN\n",
      "Getting data for Life Expectancy at Birth\n",
      "Saved Life Expectancy at Birth\n",
      "Getting data for Gross Domestic Product (GDP) Per Capita\n",
      "Saved Gross Domestic Product (GDP) Per Capita\n",
      "Getting data for Gross Domestic Product (GDP), Total\n",
      "Saved Gross Domestic Product (GDP), Total\n",
      "Getting data for Gross National Income (Gni) Per Capita\n",
      "Saved Gross National Income (Gni) Per Capita\n",
      "Getting data for Inequality-Adjusted HDI\n",
      "Saved Inequality-Adjusted HDI\n",
      "Getting data for Overall Loss in HDI Due to Inequality\n",
      "Saved Overall Loss in HDI Due to Inequality\n",
      "Getting data for Inequality-Adjusted Education Index\n",
      "Saved Inequality-Adjusted Education Index\n",
      "Getting data for Inequality-Adjusted Income Index\n",
      "Saved Inequality-Adjusted Income Index\n",
      "Getting data for Inequality-Adjusted Life Expectancy Index\n",
      "Saved Inequality-Adjusted Life Expectancy Index\n",
      "Getting data for Income Inequality, Gini Coefficient\n",
      "Saved Income Inequality, Gini Coefficient\n",
      "Getting data for Inequality in Education\n",
      "Saved Inequality in Education\n",
      "Getting data for Inequality in Income\n",
      "Saved Inequality in Income\n",
      "Getting data for Inequality in Life Expectancy\n",
      "Saved Inequality in Life Expectancy\n"
     ]
    },
    {
     "data": {
      "text/plain": [
       "0     \n",
       "1     \n",
       "2     \n",
       "3     \n",
       "4     \n",
       "5     \n",
       "6     \n",
       "7     \n",
       "8     \n",
       "9     \n",
       "10    \n",
       "11    \n",
       "12    \n",
       "13    \n",
       "14    \n",
       "15    \n",
       "16    \n",
       "17    \n",
       "18    \n",
       "dtype: object"
      ]
     },
     "execution_count": 5,
     "metadata": {},
     "output_type": "execute_result"
    }
   ],
   "source": [
    "def getData(obj):\n",
    "    print(\"Getting data for \" + str(obj['Indicator name']))\n",
    "    index_dict ={}\n",
    "    url =obj['url']\n",
    "    \n",
    "    # Change with the direcory  of chrome driver. \n",
    "    driver = webdriver.Chrome(executable_path = \"/usr/local/bin/chromedriver\")\n",
    "    \n",
    "    \n",
    "    a = driver.get(url)\n",
    "    element = WebDriverWait(driver, 10).until(\n",
    "            ec.presence_of_element_located((By.ID, \"table\"))\n",
    "        )\n",
    "    i=0\n",
    "    rows = element.find_elements(By.TAG_NAME, \"tr\")\n",
    "    for row in rows:\n",
    "        header_val = []\n",
    "        header = row.find_elements(By.TAG_NAME , \"th\")\n",
    "        for val in header:\n",
    "            header_val.append(val.text)\n",
    "        index_dict[i] = header_val\n",
    "        if(i>1):\n",
    "            row_val = []\n",
    "            col = row.find_elements(By.TAG_NAME, \"td\")\n",
    "            for val in col:\n",
    "                row_val.append(val.text)\n",
    "            index_dict[i] = row_val\n",
    "        i+=1\n",
    "        \n",
    "    df=pd.DataFrame.from_dict(index_dict,orient='index')\n",
    "    df.columns= df.iloc[0]\n",
    "    df = df.iloc[1:]\n",
    "    df.to_csv(output_path + \"/\" + str(obj['Indicator name']) + \".csv\")\n",
    "    driver.close()\n",
    "    print(\"Saved \" + str(obj['Indicator name']))\n",
    "    return \"\"\n",
    "\n",
    "\n",
    "Indicators.apply(getData , axis=1)"
   ]
  },
  {
   "cell_type": "code",
   "execution_count": null,
   "metadata": {},
   "outputs": [],
   "source": []
  }
 ],
 "metadata": {
  "kernelspec": {
   "display_name": "Python 3",
   "language": "python",
   "name": "python3"
  },
  "language_info": {
   "codemirror_mode": {
    "name": "ipython",
    "version": 3
   },
   "file_extension": ".py",
   "mimetype": "text/x-python",
   "name": "python",
   "nbconvert_exporter": "python",
   "pygments_lexer": "ipython3",
   "version": "3.7.6"
  }
 },
 "nbformat": 4,
 "nbformat_minor": 4
}
