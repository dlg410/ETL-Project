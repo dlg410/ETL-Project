{
 "cells": [
  {
   "cell_type": "code",
   "execution_count": 1,
   "metadata": {},
   "outputs": [],
   "source": [
    "import pandas as pd"
   ]
  },
  {
   "cell_type": "code",
   "execution_count": 2,
   "metadata": {},
   "outputs": [],
   "source": [
    "data_df=pd.read_csv(\"UNDP-HDI-INDEX.csv\", sep=\";\")"
   ]
  },
  {
   "cell_type": "code",
   "execution_count": 3,
   "metadata": {},
   "outputs": [
    {
     "data": {
      "text/html": [
       "<div>\n",
       "<style scoped>\n",
       "    .dataframe tbody tr th:only-of-type {\n",
       "        vertical-align: middle;\n",
       "    }\n",
       "\n",
       "    .dataframe tbody tr th {\n",
       "        vertical-align: top;\n",
       "    }\n",
       "\n",
       "    .dataframe thead th {\n",
       "        text-align: right;\n",
       "    }\n",
       "</style>\n",
       "<table border=\"1\" class=\"dataframe\">\n",
       "  <thead>\n",
       "    <tr style=\"text-align: right;\">\n",
       "      <th></th>\n",
       "      <th>Indicator name</th>\n",
       "      <th>indicator</th>\n",
       "      <th>Country name</th>\n",
       "      <th>country</th>\n",
       "      <th>time</th>\n",
       "      <th>value</th>\n",
       "    </tr>\n",
       "  </thead>\n",
       "  <tbody>\n",
       "    <tr>\n",
       "      <th>0</th>\n",
       "      <td>Human Development Index (HDI)</td>\n",
       "      <td>UNDP-HDI-INDEX</td>\n",
       "      <td>Afghanistan</td>\n",
       "      <td>AFG</td>\n",
       "      <td>1990</td>\n",
       "      <td>0.296681</td>\n",
       "    </tr>\n",
       "    <tr>\n",
       "      <th>1</th>\n",
       "      <td>Human Development Index (HDI)</td>\n",
       "      <td>UNDP-HDI-INDEX</td>\n",
       "      <td>Albania</td>\n",
       "      <td>ALB</td>\n",
       "      <td>1990</td>\n",
       "      <td>0.624210</td>\n",
       "    </tr>\n",
       "    <tr>\n",
       "      <th>2</th>\n",
       "      <td>Human Development Index (HDI)</td>\n",
       "      <td>UNDP-HDI-INDEX</td>\n",
       "      <td>United Arab Emirates</td>\n",
       "      <td>ARE</td>\n",
       "      <td>1990</td>\n",
       "      <td>0.725639</td>\n",
       "    </tr>\n",
       "    <tr>\n",
       "      <th>3</th>\n",
       "      <td>Human Development Index (HDI)</td>\n",
       "      <td>UNDP-HDI-INDEX</td>\n",
       "      <td>Argentina</td>\n",
       "      <td>ARG</td>\n",
       "      <td>1990</td>\n",
       "      <td>0.705390</td>\n",
       "    </tr>\n",
       "    <tr>\n",
       "      <th>4</th>\n",
       "      <td>Human Development Index (HDI)</td>\n",
       "      <td>UNDP-HDI-INDEX</td>\n",
       "      <td>Armenia</td>\n",
       "      <td>ARM</td>\n",
       "      <td>1990</td>\n",
       "      <td>0.632173</td>\n",
       "    </tr>\n",
       "    <tr>\n",
       "      <th>...</th>\n",
       "      <td>...</td>\n",
       "      <td>...</td>\n",
       "      <td>...</td>\n",
       "      <td>...</td>\n",
       "      <td>...</td>\n",
       "      <td>...</td>\n",
       "    </tr>\n",
       "    <tr>\n",
       "      <th>1996</th>\n",
       "      <td>Human Development Index (HDI)</td>\n",
       "      <td>UNDP-HDI-INDEX</td>\n",
       "      <td>Samoa</td>\n",
       "      <td>WSM</td>\n",
       "      <td>2018</td>\n",
       "      <td>0.707000</td>\n",
       "    </tr>\n",
       "    <tr>\n",
       "      <th>1997</th>\n",
       "      <td>Human Development Index (HDI)</td>\n",
       "      <td>UNDP-HDI-INDEX</td>\n",
       "      <td>Yemen</td>\n",
       "      <td>YEM</td>\n",
       "      <td>2018</td>\n",
       "      <td>0.463000</td>\n",
       "    </tr>\n",
       "    <tr>\n",
       "      <th>1998</th>\n",
       "      <td>Human Development Index (HDI)</td>\n",
       "      <td>UNDP-HDI-INDEX</td>\n",
       "      <td>South Africa</td>\n",
       "      <td>ZAF</td>\n",
       "      <td>2018</td>\n",
       "      <td>0.705000</td>\n",
       "    </tr>\n",
       "    <tr>\n",
       "      <th>1999</th>\n",
       "      <td>Human Development Index (HDI)</td>\n",
       "      <td>UNDP-HDI-INDEX</td>\n",
       "      <td>Zambia</td>\n",
       "      <td>ZMB</td>\n",
       "      <td>2018</td>\n",
       "      <td>0.591000</td>\n",
       "    </tr>\n",
       "    <tr>\n",
       "      <th>2000</th>\n",
       "      <td>Human Development Index (HDI)</td>\n",
       "      <td>UNDP-HDI-INDEX</td>\n",
       "      <td>Zimbabwe</td>\n",
       "      <td>ZWE</td>\n",
       "      <td>2018</td>\n",
       "      <td>0.563000</td>\n",
       "    </tr>\n",
       "  </tbody>\n",
       "</table>\n",
       "<p>2001 rows × 6 columns</p>\n",
       "</div>"
      ],
      "text/plain": [
       "                     Indicator name       indicator          Country name  \\\n",
       "0     Human Development Index (HDI)  UNDP-HDI-INDEX           Afghanistan   \n",
       "1     Human Development Index (HDI)  UNDP-HDI-INDEX               Albania   \n",
       "2     Human Development Index (HDI)  UNDP-HDI-INDEX  United Arab Emirates   \n",
       "3     Human Development Index (HDI)  UNDP-HDI-INDEX             Argentina   \n",
       "4     Human Development Index (HDI)  UNDP-HDI-INDEX               Armenia   \n",
       "...                             ...             ...                   ...   \n",
       "1996  Human Development Index (HDI)  UNDP-HDI-INDEX                 Samoa   \n",
       "1997  Human Development Index (HDI)  UNDP-HDI-INDEX                 Yemen   \n",
       "1998  Human Development Index (HDI)  UNDP-HDI-INDEX          South Africa   \n",
       "1999  Human Development Index (HDI)  UNDP-HDI-INDEX                Zambia   \n",
       "2000  Human Development Index (HDI)  UNDP-HDI-INDEX              Zimbabwe   \n",
       "\n",
       "     country  time     value  \n",
       "0        AFG  1990  0.296681  \n",
       "1        ALB  1990  0.624210  \n",
       "2        ARE  1990  0.725639  \n",
       "3        ARG  1990  0.705390  \n",
       "4        ARM  1990  0.632173  \n",
       "...      ...   ...       ...  \n",
       "1996     WSM  2018  0.707000  \n",
       "1997     YEM  2018  0.463000  \n",
       "1998     ZAF  2018  0.705000  \n",
       "1999     ZMB  2018  0.591000  \n",
       "2000     ZWE  2018  0.563000  \n",
       "\n",
       "[2001 rows x 6 columns]"
      ]
     },
     "execution_count": 3,
     "metadata": {},
     "output_type": "execute_result"
    }
   ],
   "source": [
    "data_df"
   ]
  },
  {
   "cell_type": "code",
   "execution_count": 4,
   "metadata": {},
   "outputs": [],
   "source": [
    "clean_df= data_df.fillna(0)"
   ]
  },
  {
   "cell_type": "code",
   "execution_count": 5,
   "metadata": {},
   "outputs": [],
   "source": [
    "clean_df.drop(['Indicator name', 'indicator', 'country'], axis=1, inplace=True)"
   ]
  },
  {
   "cell_type": "code",
   "execution_count": 6,
   "metadata": {},
   "outputs": [],
   "source": [
    "clean10_df = clean_df.loc[clean_df['time'] == 2010]"
   ]
  },
  {
   "cell_type": "code",
   "execution_count": 7,
   "metadata": {},
   "outputs": [],
   "source": [
    "clean11_df = clean_df.loc[clean_df['time'] == 2011]"
   ]
  },
  {
   "cell_type": "code",
   "execution_count": 8,
   "metadata": {},
   "outputs": [],
   "source": [
    "clean12_df = clean_df.loc[clean_df['time'] == 2012]"
   ]
  },
  {
   "cell_type": "code",
   "execution_count": 9,
   "metadata": {},
   "outputs": [],
   "source": [
    "clean13_df = clean_df.loc[clean_df['time'] == 2013]"
   ]
  },
  {
   "cell_type": "code",
   "execution_count": 10,
   "metadata": {},
   "outputs": [],
   "source": [
    "clean14_df = clean_df.loc[clean_df['time'] == 2014]"
   ]
  },
  {
   "cell_type": "code",
   "execution_count": 11,
   "metadata": {},
   "outputs": [],
   "source": [
    "clean15_df = clean_df.loc[clean_df['time'] == 2015]"
   ]
  },
  {
   "cell_type": "code",
   "execution_count": 12,
   "metadata": {},
   "outputs": [],
   "source": [
    "clean16_df = clean_df.loc[clean_df['time'] == 2016]"
   ]
  },
  {
   "cell_type": "code",
   "execution_count": 13,
   "metadata": {},
   "outputs": [],
   "source": [
    "clean17_df = clean_df.loc[clean_df['time'] == 2017]"
   ]
  },
  {
   "cell_type": "code",
   "execution_count": 14,
   "metadata": {},
   "outputs": [],
   "source": [
    "clean18_df = clean_df.loc[clean_df['time'] == 2018]"
   ]
  },
  {
   "cell_type": "code",
   "execution_count": 15,
   "metadata": {},
   "outputs": [],
   "source": [
    "clean10_df.to_csv(\"./Clean/UNDP-HDI-INDEX 2010.csv\", index = False)"
   ]
  },
  {
   "cell_type": "code",
   "execution_count": 16,
   "metadata": {},
   "outputs": [],
   "source": [
    "clean11_df.to_csv(\"./Clean/UNDP-HDI-INDEX 2011.csv\", index = False)"
   ]
  },
  {
   "cell_type": "code",
   "execution_count": 17,
   "metadata": {},
   "outputs": [],
   "source": [
    "clean12_df.to_csv(\"./Clean/UNDP-HDI-INDEX 2012.csv\", index = False)"
   ]
  },
  {
   "cell_type": "code",
   "execution_count": 18,
   "metadata": {},
   "outputs": [],
   "source": [
    "clean13_df.to_csv(\"./Clean/UNDP-HDI-INDEX 2013.csv\", index = False)"
   ]
  },
  {
   "cell_type": "code",
   "execution_count": 19,
   "metadata": {},
   "outputs": [],
   "source": [
    "clean14_df.to_csv(\"./Clean/UNDP-HDI-INDEX 2014.csv\", index = False)"
   ]
  },
  {
   "cell_type": "code",
   "execution_count": 20,
   "metadata": {},
   "outputs": [],
   "source": [
    "clean15_df.to_csv(\"./Clean/UNDP-HDI-INDEX 2015.csv\", index = False)"
   ]
  },
  {
   "cell_type": "code",
   "execution_count": 21,
   "metadata": {},
   "outputs": [],
   "source": [
    "clean16_df.to_csv(\"./Clean/UNDP-HDI-INDEX 2016.csv\", index = False)"
   ]
  },
  {
   "cell_type": "code",
   "execution_count": 22,
   "metadata": {},
   "outputs": [],
   "source": [
    "clean17_df.to_csv(\"./Clean/UNDP-HDI-INDEX 2017.csv\", index = False)"
   ]
  },
  {
   "cell_type": "code",
   "execution_count": 23,
   "metadata": {},
   "outputs": [],
   "source": [
    "clean18_df.to_csv(\"./Clean/UNDP-HDI-INDEX 2018.csv\", index = False)"
   ]
  }
 ],
 "metadata": {
  "kernelspec": {
   "display_name": "Python 3",
   "language": "python",
   "name": "python3"
  },
  "language_info": {
   "codemirror_mode": {
    "name": "ipython",
    "version": 3
   },
   "file_extension": ".py",
   "mimetype": "text/x-python",
   "name": "python",
   "nbconvert_exporter": "python",
   "pygments_lexer": "ipython3",
   "version": "3.7.6"
  }
 },
 "nbformat": 4,
 "nbformat_minor": 4
}
